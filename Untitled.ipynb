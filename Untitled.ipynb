{
 "cells": [
  {
   "cell_type": "code",
   "execution_count": 191,
   "id": "9c3675b2",
   "metadata": {},
   "outputs": [],
   "source": [
    "import geopy.distance\n",
    "import math\n",
    "import matplotlib.pyplot as plt\n",
    "from gmplot import gmplot"
   ]
  },
  {
   "cell_type": "code",
   "execution_count": 283,
   "id": "546b2eb9",
   "metadata": {},
   "outputs": [],
   "source": [
    "def fakeDivision(x,y):\n",
    "    return x / y if y != 0 else 0\n",
    "\n",
    "\n",
    "lat = 46.126032240711595\n",
    "lon =  14.555414824791287\n",
    "height = 1000\n",
    "azimuth = 0\n",
    "azimuth += math.pi/2\n",
    "pitch = math.pi/2\n",
    "earth_radius = geopy.distance.EARTH_RADIUS * 10**3\n",
    "\n",
    "earth_circum = earth_radius * 2 * math.pi"
   ]
  },
  {
   "cell_type": "code",
   "execution_count": 284,
   "id": "6db41b70",
   "metadata": {},
   "outputs": [
    {
     "name": "stdout",
     "output_type": "stream",
     "text": [
      "1000.0\n",
      "6.123233995736766e-14 1000.0 1000.0\n"
     ]
    }
   ],
   "source": [
    "\n",
    "d = fakeDivision(height, math.sin(pitch))\n",
    "\n",
    "print(d)\n",
    "a = math.cos(azimuth) * d\n",
    "b = math.sin(azimuth) * d\n",
    "print(a,b,d)\n",
    "offset = lambda x: math.degrees(math.asin((x/2)/earth_radius)*2)\n",
    "latOffset = offset(b)\n",
    "lonOffset = offset(a)"
   ]
  },
  {
   "cell_type": "code",
   "execution_count": 285,
   "id": "78f6515f",
   "metadata": {},
   "outputs": [
    {
     "data": {
      "image/png": "[encoded data removed]",
      "text/plain": [
       "<Figure size 432x288 with 1 Axes>"
      ]
     },
     "metadata": {
      "needs_background": "light"
     },
     "output_type": "display_data"
    }
   ],
   "source": [
    "# plt.plot(lat + latOffset / earth_circum, lon + b / earth_circum, 'bo')\n",
    "gmap = gmplot.GoogleMapPlotter(46.126032240711595, 14.555414824791287, 14)\n",
    "plt.plot(lat, lon, 'ro')\n",
    "plt.show()\n",
    "gmap.marker(lat + latOffset, lon + lonOffset, 'cornflowerblue')\n",
    "gmap.draw(\"my_map.html\")"
   ]
  },
  {
   "cell_type": "code",
   "execution_count": null,
   "id": "d56e4df5",
   "metadata": {},
   "outputs": [],
   "source": []
  },
  {
   "cell_type": "code",
   "execution_count": null,
   "id": "35f8f9d4",
   "metadata": {},
   "outputs": [],
   "source": []
  }
 ],
 "metadata": {
  "kernelspec": {
   "display_name": "Python 3 (ipykernel)",
   "language": "python",
   "name": "python3"
  },
  "language_info": {
   "codemirror_mode": {
    "name": "ipython",
    "version": 3
   },
   "file_extension": ".py",
   "mimetype": "text/x-python",
   "name": "python",
   "nbconvert_exporter": "python",
   "pygments_lexer": "ipython3",
   "version": "3.10.1"
  }
 },
 "nbformat": 4,
 "nbformat_minor": 5
}
